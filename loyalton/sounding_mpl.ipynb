{
 "cells": [
  {
   "attachments": {},
   "cell_type": "markdown",
   "metadata": {},
   "source": [
    "# Plotting FGTV"
   ]
  },
  {
   "cell_type": "code",
   "execution_count": 1,
   "metadata": {},
   "outputs": [],
   "source": [
    "import sys\n",
    "import os\n",
    "from pathlib import Path\n",
    "root = Path.cwd().parents[0]\n",
    "sys.path.append(str(root))\n",
    "\n",
    "from vort import plotkvortw\n",
    "\n",
    "from datetime import datetime\n",
    "import sounding"
   ]
  },
  {
   "attachments": {},
   "cell_type": "markdown",
   "metadata": {},
   "source": [
    "## Set Paths"
   ]
  },
  {
   "cell_type": "code",
   "execution_count": 2,
   "metadata": {},
   "outputs": [],
   "source": [
    "hrrr = root/\"init_conditions\"\n",
    "data = root/\"loyalton\"/\"nc\"\n",
    "vort_dir = root/\"loyalton\"/\"plots\"/\"kvortw\"\n",
    "sounding_dir = root/\"loyalton\"/\"soundings\""
   ]
  },
  {
   "attachments": {},
   "cell_type": "markdown",
   "metadata": {},
   "source": [
    "## Sounding Plot"
   ]
  },
  {
   "cell_type": "code",
   "execution_count": 3,
   "metadata": {},
   "outputs": [
    {
     "name": "stdout",
     "output_type": "stream",
     "text": [
      "SHARPpy Skew-T image output at:  d:\\ATM255\\final_proj\\plotting\\loyalton\\soundings\\loyalton.png\n"
     ]
    }
   ],
   "source": [
    "loyalton_sounding = sounding.SoundingData('hrrr', hrrr/\"out_loyalton.nc\", lat=39.681, lon=-120.171)\n",
    "\n",
    "loyalton_sounding.plot(datetime(month=8, day=15, year=2020), title=\"HRRR Analysis Loyalton Fire Sounding\", filename=str(sounding_dir/\"loyalton.png\"))"
   ]
  },
  {
   "attachments": {},
   "cell_type": "markdown",
   "metadata": {},
   "source": [
    "## Vort and Vert"
   ]
  },
  {
   "cell_type": "code",
   "execution_count": 4,
   "metadata": {},
   "outputs": [],
   "source": [
    "files = os.listdir(data)\n",
    "for i in range(len(files)-1, -1, -1):\n",
    "    if not files[i].startswith(\"wrfout\"):\n",
    "        files.pop(i)\n",
    "for i, file in enumerate(files):\n",
    "    plotkvortw(i, file, (25, 100, 26, 86), data, vort_dir, 1)"
   ]
  }
 ],
 "metadata": {
  "kernelspec": {
   "display_name": "wrf",
   "language": "python",
   "name": "python3"
  },
  "language_info": {
   "codemirror_mode": {
    "name": "ipython",
    "version": 3
   },
   "file_extension": ".py",
   "mimetype": "text/x-python",
   "name": "python",
   "nbconvert_exporter": "python",
   "pygments_lexer": "ipython3",
   "version": "3.8.16"
  },
  "orig_nbformat": 4
 },
 "nbformat": 4,
 "nbformat_minor": 2
}
