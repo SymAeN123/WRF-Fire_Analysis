{
 "cells": [
  {
   "attachments": {},
   "cell_type": "markdown",
   "metadata": {},
   "source": [
    "# General Plotting Generator"
   ]
  },
  {
   "cell_type": "code",
   "execution_count": 10,
   "metadata": {},
   "outputs": [
    {
     "name": "stdout",
     "output_type": "stream",
     "text": [
      "Notebook initialized with ipy backend.\n"
     ]
    }
   ],
   "source": [
    "from wrf import (to_np, getvar, interplevel)\n",
    "from netCDF4 import Dataset\n",
    "\n",
    "import os\n",
    "from pathlib import Path\n",
    "\n",
    "import numpy as np\n",
    "\n",
    "import mayavi.mlab as mlab\n",
    "import mayaviplot\n",
    "mlab.init_notebook()"
   ]
  },
  {
   "attachments": {},
   "cell_type": "markdown",
   "metadata": {},
   "source": [
    "# List of Cases"
   ]
  },
  {
   "cell_type": "code",
   "execution_count": 11,
   "metadata": {},
   "outputs": [],
   "source": [
    "cases = []\n",
    "cases += [\"creek\"]\n",
    "cases += [\"loyalton\"]\n",
    "cases += [\"tor\"]"
   ]
  },
  {
   "attachments": {},
   "cell_type": "markdown",
   "metadata": {},
   "source": [
    "### General Animation Transform"
   ]
  },
  {
   "cell_type": "code",
   "execution_count": 12,
   "metadata": {},
   "outputs": [],
   "source": [
    "def root_transform(frame, max, root=2):\n",
    "    return np.power(frame/max, 1/root)"
   ]
  },
  {
   "attachments": {},
   "cell_type": "markdown",
   "metadata": {},
   "source": [
    "### Animation Function Dictionary"
   ]
  },
  {
   "cell_type": "code",
   "execution_count": 13,
   "metadata": {},
   "outputs": [],
   "source": [
    "aniFunc = {}"
   ]
  },
  {
   "attachments": {},
   "cell_type": "markdown",
   "metadata": {},
   "source": [
    "### General Smoke and Area"
   ]
  },
  {
   "cell_type": "code",
   "execution_count": 14,
   "metadata": {},
   "outputs": [],
   "source": [
    "\n",
    "def smoke_and_area(file):\n",
    "    nc = Dataset(file)\n",
    "    hgt = to_np(getvar(nc, 'height_agl', units='m'))\n",
    "    _, num_y, num_x = hgt.shape\n",
    "    x3, y3, z3 = np.mgrid[0:num_x*50:50, 0:num_y*50:50, 50:4001:50]\n",
    "    smoke = nc[\"fire_smoke\"][:,:,:]\n",
    "    smoke_interp = interplevel(smoke, hgt, 50)\n",
    "    for h in range(100,4001,50):\n",
    "        smoke_interp = np.dstack((smoke_interp, interplevel(smoke, hgt, h)))\n",
    "    smoke_interp = smoke_interp.transpose(1, 0, 2)\n",
    "    burn_area = (nc[\"FIRE_AREA\"][0,0:4*num_y,0:4*num_x]).transpose(1, 0)\n",
    "    x2, y2 = np.mgrid[0:num_x*50:50/4, 0:num_y*50:50/4]\n",
    "    elevation= 0*x2\n",
    "    return (x3, y3, z3, smoke_interp, x2, y2, elevation, burn_area)"
   ]
  },
  {
   "attachments": {},
   "cell_type": "markdown",
   "metadata": {},
   "source": [
    "### Creek Fire Case"
   ]
  },
  {
   "attachments": {},
   "cell_type": "markdown",
   "metadata": {},
   "source": [
    "##### Smoke Animation Settings"
   ]
  },
  {
   "cell_type": "code",
   "execution_count": 15,
   "metadata": {},
   "outputs": [],
   "source": [
    "def animateCreekSmoke(frame, num_frames, azumith, elevation, distance, focalpoint):\n",
    "    azumith -= 45*root_transform(frame, num_frames, 4)\n",
    "    elevation += 60*root_transform(frame, num_frames, 4)\n",
    "    distance += 3000*root_transform(frame, num_frames, 4)\n",
    "    focalpoint[0] += 600*root_transform(frame, num_frames, 4)\n",
    "    focalpoint[1] += 30*root_transform(frame, num_frames, 4)\n",
    "    focalpoint[2] += 900*root_transform(frame, num_frames, 4)\n",
    "    return (azumith, elevation, distance, focalpoint)\n",
    "\n",
    "def creekViewSmoke(frame, num_frames):\n",
    "    azumith = 315\n",
    "    elevation = 30\n",
    "    distance = 2000\n",
    "    focalpoint = [5000, 2000, 0]\n",
    "    a, e, d, f = animateCreekSmoke(frame, num_frames, azumith, elevation, distance, focalpoint)\n",
    "    return (a, e, d, f)\n",
    "\n",
    "aniFunc[\"creek\"] = creekViewSmoke"
   ]
  },
  {
   "attachments": {},
   "cell_type": "markdown",
   "metadata": {},
   "source": [
    "### Loyalton Fire Case"
   ]
  },
  {
   "attachments": {},
   "cell_type": "markdown",
   "metadata": {},
   "source": [
    "##### Smoke Animation Settings"
   ]
  },
  {
   "cell_type": "code",
   "execution_count": 16,
   "metadata": {},
   "outputs": [],
   "source": [
    "def animateLoyaltonSmoke(frame, num_frames, azumith, elevation, distance, focalpoint):\n",
    "    azumith += 120*root_transform(frame, num_frames, 4)\n",
    "    elevation += 60*root_transform(frame, num_frames, 4)\n",
    "    distance += 5000*root_transform(frame, num_frames, 4)\n",
    "    focalpoint[0] += 1200*root_transform(frame, num_frames, 4)\n",
    "    focalpoint[1] += 1200*root_transform(frame, num_frames, 4)\n",
    "    focalpoint[2] += 1000*root_transform(frame, num_frames, 4)\n",
    "    return (azumith, elevation, distance, focalpoint)\n",
    "\n",
    "def loyaltonViewSmoke(frame, num_frames):\n",
    "    azumith = 225\n",
    "    elevation = 30\n",
    "    distance = 2000\n",
    "    focalpoint = [2000, 2000, 0]\n",
    "    a, e, d, f = animateLoyaltonSmoke(frame, num_frames, azumith, elevation, distance, focalpoint)\n",
    "    return (a, e, d, f)\n",
    "\n",
    "aniFunc[\"loyalton\"] = loyaltonViewSmoke"
   ]
  },
  {
   "attachments": {},
   "cell_type": "markdown",
   "metadata": {},
   "source": [
    "### Idealized Tornado Vortex Case"
   ]
  },
  {
   "attachments": {},
   "cell_type": "markdown",
   "metadata": {},
   "source": [
    "##### Smoke Animation Settings"
   ]
  },
  {
   "cell_type": "code",
   "execution_count": 17,
   "metadata": {},
   "outputs": [],
   "source": [
    "def animateTorSmoke(frame, num_frames, azumith, elevation, distance, focalpoint):\n",
    "    azumith -= 70*root_transform(frame, num_frames, 5)\n",
    "    elevation += 60*root_transform(frame, num_frames, 5)\n",
    "    distance += 8000*root_transform(frame, num_frames, 5)\n",
    "    focalpoint[0] += 1500*root_transform(frame, num_frames, 5)\n",
    "    focalpoint[1] += 1500*root_transform(frame, num_frames, 5)\n",
    "    focalpoint[2] += 1000*root_transform(frame, num_frames, 5)\n",
    "    return (azumith, elevation, distance, focalpoint)\n",
    "\n",
    "def torViewSmoke(frame, num_frames):\n",
    "    azumith = 180\n",
    "    elevation = 30\n",
    "    distance = 2000\n",
    "    focalpoint = [5000, 2000, 0]\n",
    "    a, e, d, f = animateTorSmoke(frame, num_frames, azumith, elevation, distance, focalpoint)\n",
    "    return (a, e, d, f)\n",
    "\n",
    "aniFunc[\"tor\"] = torViewSmoke"
   ]
  },
  {
   "attachments": {},
   "cell_type": "markdown",
   "metadata": {},
   "source": [
    "# Generate Smoke Plots"
   ]
  },
  {
   "cell_type": "code",
   "execution_count": 18,
   "metadata": {},
   "outputs": [
    {
     "name": "stdout",
     "output_type": "stream",
     "text": [
      "(50, 205, 205)\n",
      "(50, 205, 205)\n"
     ]
    },
    {
     "ename": "KeyboardInterrupt",
     "evalue": "",
     "output_type": "error",
     "traceback": [
      "\u001b[1;31m---------------------------------------------------------------------------\u001b[0m",
      "\u001b[1;31mKeyboardInterrupt\u001b[0m                         Traceback (most recent call last)",
      "Cell \u001b[1;32mIn[18], line 10\u001b[0m\n\u001b[0;32m      7\u001b[0m \u001b[39mfor\u001b[39;00m frame, file \u001b[39min\u001b[39;00m \u001b[39menumerate\u001b[39m(files):\n\u001b[0;32m      8\u001b[0m     x3, y3, z3, smoke_interp, x2, y2, elevation, burn_area \u001b[39m=\u001b[39m \\\n\u001b[0;32m      9\u001b[0m         smoke_and_area(root\u001b[39m/\u001b[39m\u001b[39m\"\u001b[39m\u001b[39mnc\u001b[39m\u001b[39m\"\u001b[39m\u001b[39m/\u001b[39mfile)\n\u001b[1;32m---> 10\u001b[0m     fig \u001b[39m=\u001b[39m mayaviplot\u001b[39m.\u001b[39;49mplot3d(x3, y3, z3, smoke_interp, x2, y2, elevation,\n\u001b[0;32m     11\u001b[0m                             burn_area, aniFunc[case], frame, \u001b[39mlen\u001b[39;49m(files)\u001b[39m-\u001b[39;49m\u001b[39m1\u001b[39;49m,\n\u001b[0;32m     12\u001b[0m                             r_mv_cmap\u001b[39m=\u001b[39;49m\u001b[39mTrue\u001b[39;49;00m, squish\u001b[39m=\u001b[39;49m\u001b[39m19.5\u001b[39;49m, disp\u001b[39m=\u001b[39;49m\u001b[39m0.5\u001b[39;49m,\n\u001b[0;32m     13\u001b[0m                             out_filename\u001b[39m=\u001b[39;49m\u001b[39mstr\u001b[39;49m(root\u001b[39m/\u001b[39;49m\u001b[39m\"\u001b[39;49m\u001b[39mplots\u001b[39;49m\u001b[39m\"\u001b[39;49m\u001b[39m/\u001b[39;49m\u001b[39m\"\u001b[39;49m\u001b[39msmoke\u001b[39;49m\u001b[39m\"\u001b[39;49m\u001b[39m/\u001b[39;49m(\u001b[39mstr\u001b[39;49m(frame) \u001b[39m+\u001b[39;49m \u001b[39m\"\u001b[39;49m\u001b[39m.png\u001b[39;49m\u001b[39m\"\u001b[39;49m)))\n\u001b[0;32m     14\u001b[0m     mlab\u001b[39m.\u001b[39mclose(fig)\n\u001b[0;32m     15\u001b[0m \u001b[39mprint\u001b[39m(\u001b[39m\"\u001b[39m\u001b[39mFinished Plotting: \u001b[39m\u001b[39m{}\u001b[39;00m\u001b[39m\"\u001b[39m\u001b[39m.\u001b[39mformat(root))\n",
      "File \u001b[1;32md:\\ATM255\\final_proj\\plotting\\mayaviplot.py:55\u001b[0m, in \u001b[0;36mplot3d\u001b[1;34m(x3, y3, z3, vol_scalar, x2, y2, z2, surf_scalar, view, frame_num, num_frames, squish, disp, out_filename, mpl_vol_cmap, mv_ter_cmap, r_mv_cmap)\u001b[0m\n\u001b[0;32m     50\u001b[0m \u001b[39m# Here, we build the very exact pipeline of surf, but add a\u001b[39;00m\n\u001b[0;32m     51\u001b[0m \u001b[39m# set_active_attribute filter to switch the color, this is code very\u001b[39;00m\n\u001b[0;32m     52\u001b[0m \u001b[39m# similar to the code introduced in:\u001b[39;00m\n\u001b[0;32m     53\u001b[0m \u001b[39m# http://code.enthought.com/projects/mayavi/docs/development/html/mayavi/mlab.html#assembling-pipelines-with-mlab\u001b[39;00m\n\u001b[0;32m     54\u001b[0m warp \u001b[39m=\u001b[39m mlab\u001b[39m.\u001b[39mpipeline\u001b[39m.\u001b[39mwarp_scalar(src, warp_scale\u001b[39m=\u001b[39m\u001b[39m.5\u001b[39m)\n\u001b[1;32m---> 55\u001b[0m normals \u001b[39m=\u001b[39m mlab\u001b[39m.\u001b[39;49mpipeline\u001b[39m.\u001b[39;49mpoly_data_normals(warp)\n\u001b[0;32m     56\u001b[0m active_attr \u001b[39m=\u001b[39m mlab\u001b[39m.\u001b[39mpipeline\u001b[39m.\u001b[39mset_active_attribute(normals,\n\u001b[0;32m     57\u001b[0m                                             point_scalars\u001b[39m=\u001b[39m\u001b[39m'\u001b[39m\u001b[39mcolor\u001b[39m\u001b[39m'\u001b[39m)\n\u001b[0;32m     58\u001b[0m surf \u001b[39m=\u001b[39m mlab\u001b[39m.\u001b[39mpipeline\u001b[39m.\u001b[39msurface(active_attr, colormap\u001b[39m=\u001b[39mmv_ter_cmap)\n",
      "File \u001b[1;32mc:\\Users\\ameya\\miniconda3\\envs\\wrf\\lib\\site-packages\\mayavi\\tools\\pipe_base.py:38\u001b[0m, in \u001b[0;36mmake_function.<locals>.the_function\u001b[1;34m(*args, **kwargs)\u001b[0m\n\u001b[0;32m     37\u001b[0m \u001b[39mdef\u001b[39;00m \u001b[39mthe_function\u001b[39m(\u001b[39m*\u001b[39margs, \u001b[39m*\u001b[39m\u001b[39m*\u001b[39mkwargs):\n\u001b[1;32m---> 38\u001b[0m     factory \u001b[39m=\u001b[39m factory_class(\u001b[39m*\u001b[39;49margs, \u001b[39m*\u001b[39;49m\u001b[39m*\u001b[39;49mkwargs)\n\u001b[0;32m     39\u001b[0m     \u001b[39mreturn\u001b[39;00m factory\u001b[39m.\u001b[39m_target\n",
      "File \u001b[1;32mc:\\Users\\ameya\\miniconda3\\envs\\wrf\\lib\\site-packages\\mayavi\\tools\\pipe_base.py:165\u001b[0m, in \u001b[0;36mPipeFactory.__init__\u001b[1;34m(self, parent, **kwargs)\u001b[0m\n\u001b[0;32m    163\u001b[0m \u001b[39mself\u001b[39m\u001b[39m.\u001b[39mtrait_set(\u001b[39m*\u001b[39m\u001b[39m*\u001b[39mtraits)\n\u001b[0;32m    164\u001b[0m \u001b[39mif\u001b[39;00m scene \u001b[39mis\u001b[39;00m \u001b[39mnot\u001b[39;00m \u001b[39mNone\u001b[39;00m:\n\u001b[1;32m--> 165\u001b[0m     scene\u001b[39m.\u001b[39mdisable_render \u001b[39m=\u001b[39m \u001b[39mnot\u001b[39;00m \u001b[39mself\u001b[39m\u001b[39m.\u001b[39m_do_redraw\n",
      "File \u001b[1;32mc:\\Users\\ameya\\miniconda3\\envs\\wrf\\lib\\site-packages\\traits\\trait_notifiers.py:342\u001b[0m, in \u001b[0;36mAbstractStaticChangeNotifyWrapper.__call__\u001b[1;34m(self, object, trait_name, old, new)\u001b[0m\n\u001b[0;32m    336\u001b[0m     _pre_change_event_tracer(\n\u001b[0;32m    337\u001b[0m         \u001b[39mobject\u001b[39m, trait_name, old, new, \u001b[39mself\u001b[39m\u001b[39m.\u001b[39mhandler\n\u001b[0;32m    338\u001b[0m     )\n\u001b[0;32m    340\u001b[0m \u001b[39mtry\u001b[39;00m:\n\u001b[0;32m    341\u001b[0m     \u001b[39m# Call the handler.\u001b[39;00m\n\u001b[1;32m--> 342\u001b[0m     \u001b[39mself\u001b[39;49m\u001b[39m.\u001b[39;49mhandler(\u001b[39m*\u001b[39;49margs)\n\u001b[0;32m    343\u001b[0m \u001b[39mexcept\u001b[39;00m \u001b[39mException\u001b[39;00m \u001b[39mas\u001b[39;00m e:\n\u001b[0;32m    344\u001b[0m     \u001b[39mif\u001b[39;00m _post_change_event_tracer \u001b[39mis\u001b[39;00m \u001b[39mnot\u001b[39;00m \u001b[39mNone\u001b[39;00m:\n",
      "File \u001b[1;32mc:\\Users\\ameya\\miniconda3\\envs\\wrf\\lib\\site-packages\\tvtk\\pyface\\tvtk_scene.py:844\u001b[0m, in \u001b[0;36mTVTKScene._disable_render_changed\u001b[1;34m(self, val)\u001b[0m\n\u001b[0;32m    842\u001b[0m \u001b[39mdef\u001b[39;00m \u001b[39m_disable_render_changed\u001b[39m(\u001b[39mself\u001b[39m, val):\n\u001b[0;32m    843\u001b[0m     \u001b[39mif\u001b[39;00m \u001b[39mnot\u001b[39;00m val \u001b[39mand\u001b[39;00m \u001b[39mself\u001b[39m\u001b[39m.\u001b[39m_renwin \u001b[39mis\u001b[39;00m \u001b[39mnot\u001b[39;00m \u001b[39mNone\u001b[39;00m:\n\u001b[1;32m--> 844\u001b[0m         \u001b[39mself\u001b[39;49m\u001b[39m.\u001b[39;49mrender()\n",
      "File \u001b[1;32mc:\\Users\\ameya\\miniconda3\\envs\\wrf\\lib\\site-packages\\tvtk\\pyface\\tvtk_scene.py:260\u001b[0m, in \u001b[0;36mTVTKScene.render\u001b[1;34m(self)\u001b[0m\n\u001b[0;32m    257\u001b[0m \u001b[39m\"\"\" Force the scene to be rendered. Nothing is done if the\u001b[39;00m\n\u001b[0;32m    258\u001b[0m \u001b[39m`disable_render` trait is set to True.\"\"\"\u001b[39;00m\n\u001b[0;32m    259\u001b[0m \u001b[39mif\u001b[39;00m \u001b[39mnot\u001b[39;00m \u001b[39mself\u001b[39m\u001b[39m.\u001b[39mdisable_render:\n\u001b[1;32m--> 260\u001b[0m     \u001b[39mself\u001b[39;49m\u001b[39m.\u001b[39;49m_renwin\u001b[39m.\u001b[39;49mrender()\n",
      "\u001b[1;31mKeyboardInterrupt\u001b[0m: "
     ]
    }
   ],
   "source": [
    "for case in cases:\n",
    "    root = Path.cwd()/case\n",
    "    files = os.listdir(root/\"nc\")\n",
    "    for i in range(len(files)-1, -1, -1):\n",
    "        if not files[i].startswith(\"wrfout\"):\n",
    "            files.pop(i)\n",
    "    for frame, file in enumerate(files):\n",
    "        x3, y3, z3, smoke_interp, x2, y2, elevation, burn_area = \\\n",
    "            smoke_and_area(root/\"nc\"/file)\n",
    "        fig = mayaviplot.plot3d(x3, y3, z3, smoke_interp, x2, y2, elevation,\n",
    "                                burn_area, aniFunc[case], frame, len(files)-1,\n",
    "                                r_mv_cmap=True, squish=19.5, disp=0.5,\n",
    "                                out_filename=str(root/\"plots\"/\"smoke\"/(str(frame) + \".png\")))\n",
    "        mlab.close(fig)\n",
    "    print(\"Finished Plotting: {}\".format(root))"
   ]
  }
 ],
 "metadata": {
  "kernelspec": {
   "display_name": "wrf",
   "language": "python",
   "name": "python3"
  },
  "language_info": {
   "codemirror_mode": {
    "name": "ipython",
    "version": 3
   },
   "file_extension": ".py",
   "mimetype": "text/x-python",
   "name": "python",
   "nbconvert_exporter": "python",
   "pygments_lexer": "ipython3",
   "version": "3.8.16"
  },
  "orig_nbformat": 4
 },
 "nbformat": 4,
 "nbformat_minor": 2
}
