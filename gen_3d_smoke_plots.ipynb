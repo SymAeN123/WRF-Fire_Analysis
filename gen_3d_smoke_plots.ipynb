{
 "cells": [
  {
   "attachments": {},
   "cell_type": "markdown",
   "metadata": {},
   "source": [
    "# General Plotting Generator"
   ]
  },
  {
   "cell_type": "code",
   "execution_count": 10,
   "metadata": {},
   "outputs": [
    {
     "name": "stdout",
     "output_type": "stream",
     "text": [
      "Notebook initialized with ipy backend.\n"
     ]
    }
   ],
   "source": [
    "from wrf import (to_np, getvar, interplevel)\n",
    "from netCDF4 import Dataset\n",
    "\n",
    "import os\n",
    "from pathlib import Path\n",
    "\n",
    "import numpy as np\n",
    "\n",
    "import mayavi.mlab as mlab\n",
    "import mayaviplot\n",
    "mlab.init_notebook()"
   ]
  },
  {
   "attachments": {},
   "cell_type": "markdown",
   "metadata": {},
   "source": [
    "# List of Cases"
   ]
  },
  {
   "cell_type": "code",
   "execution_count": 11,
   "metadata": {},
   "outputs": [],
   "source": [
    "cases = []\n",
    "cases += [\"creek\"]\n",
    "cases += [\"loyalton\"]\n",
    "cases += [\"tor\"]"
   ]
  },
  {
   "attachments": {},
   "cell_type": "markdown",
   "metadata": {},
   "source": [
    "### General Animation Transform"
   ]
  },
  {
   "cell_type": "code",
   "execution_count": 12,
   "metadata": {},
   "outputs": [],
   "source": [
    "def root_transform(frame, max, root=2):\n",
    "    return np.power(frame/max, 1/root)"
   ]
  },
  {
   "attachments": {},
   "cell_type": "markdown",
   "metadata": {},
   "source": [
    "### Animation Function Dictionary"
   ]
  },
  {
   "cell_type": "code",
   "execution_count": 13,
   "metadata": {},
   "outputs": [],
   "source": [
    "aniFunc = {}"
   ]
  },
  {
   "attachments": {},
   "cell_type": "markdown",
   "metadata": {},
   "source": [
    "### General Smoke and Area"
   ]
  },
  {
   "cell_type": "code",
   "execution_count": 14,
   "metadata": {},
   "outputs": [],
   "source": [
    "\n",
    "def smoke_and_area(file):\n",
    "    nc = Dataset(file)\n",
    "    hgt = to_np(getvar(nc, 'height_agl', units='m'))\n",
    "    _, num_y, num_x = hgt.shape\n",
    "    x3, y3, z3 = np.mgrid[0:num_x*50:50, 0:num_y*50:50, 50:4001:50]\n",
    "    smoke = nc[\"fire_smoke\"][:,:,:]\n",
    "    smoke_interp = interplevel(smoke, hgt, 50)\n",
    "    for h in range(100,4001,50):\n",
    "        smoke_interp = np.dstack((smoke_interp, interplevel(smoke, hgt, h)))\n",
    "    smoke_interp = smoke_interp.transpose(1, 0, 2)\n",
    "    burn_area = (nc[\"FIRE_AREA\"][0,0:4*num_y,0:4*num_x]).transpose(1, 0)\n",
    "    x2, y2 = np.mgrid[0:num_x*50:50/4, 0:num_y*50:50/4]\n",
    "    elevation= 0*x2\n",
    "    return (x3, y3, z3, smoke_interp, x2, y2, elevation, burn_area)"
   ]
  },
  {
   "attachments": {},
   "cell_type": "markdown",
   "metadata": {},
   "source": [
    "### Creek Fire Case"
   ]
  },
  {
   "attachments": {},
   "cell_type": "markdown",
   "metadata": {},
   "source": [
    "##### Smoke Animation Settings"
   ]
  },
  {
   "cell_type": "code",
   "execution_count": 15,
   "metadata": {},
   "outputs": [],
   "source": [
    "def animateCreekSmoke(frame, num_frames, azumith, elevation, distance, focalpoint):\n",
    "    azumith -= 45*root_transform(frame, num_frames, 4)\n",
    "    elevation += 60*root_transform(frame, num_frames, 4)\n",
    "    distance += 3000*root_transform(frame, num_frames, 4)\n",
    "    focalpoint[0] += 600*root_transform(frame, num_frames, 4)\n",
    "    focalpoint[1] += 30*root_transform(frame, num_frames, 4)\n",
    "    focalpoint[2] += 900*root_transform(frame, num_frames, 4)\n",
    "    return (azumith, elevation, distance, focalpoint)\n",
    "\n",
    "def creekViewSmoke(frame, num_frames):\n",
    "    azumith = 315\n",
    "    elevation = 30\n",
    "    distance = 2000\n",
    "    focalpoint = [5000, 2000, 0]\n",
    "    a, e, d, f = animateCreekSmoke(frame, num_frames, azumith, elevation, distance, focalpoint)\n",
    "    return (a, e, d, f)\n",
    "\n",
    "aniFunc[\"creek\"] = creekViewSmoke"
   ]
  },
  {
   "attachments": {},
   "cell_type": "markdown",
   "metadata": {},
   "source": [
    "### Loyalton Fire Case"
   ]
  },
  {
   "attachments": {},
   "cell_type": "markdown",
   "metadata": {},
   "source": [
    "##### Smoke Animation Settings"
   ]
  },
  {
   "cell_type": "code",
   "execution_count": 16,
   "metadata": {},
   "outputs": [],
   "source": [
    "def animateLoyaltonSmoke(frame, num_frames, azumith, elevation, distance, focalpoint):\n",
    "    azumith += 120*root_transform(frame, num_frames, 4)\n",
    "    elevation += 60*root_transform(frame, num_frames, 4)\n",
    "    distance += 5000*root_transform(frame, num_frames, 4)\n",
    "    focalpoint[0] += 1200*root_transform(frame, num_frames, 4)\n",
    "    focalpoint[1] += 1200*root_transform(frame, num_frames, 4)\n",
    "    focalpoint[2] += 1000*root_transform(frame, num_frames, 4)\n",
    "    return (azumith, elevation, distance, focalpoint)\n",
    "\n",
    "def loyaltonViewSmoke(frame, num_frames):\n",
    "    azumith = 225\n",
    "    elevation = 30\n",
    "    distance = 2000\n",
    "    focalpoint = [2000, 2000, 0]\n",
    "    a, e, d, f = animateLoyaltonSmoke(frame, num_frames, azumith, elevation, distance, focalpoint)\n",
    "    return (a, e, d, f)\n",
    "\n",
    "aniFunc[\"loyalton\"] = loyaltonViewSmoke"
   ]
  },
  {
   "attachments": {},
   "cell_type": "markdown",
   "metadata": {},
   "source": [
    "### Idealized Tornado Vortex Case"
   ]
  },
  {
   "attachments": {},
   "cell_type": "markdown",
   "metadata": {},
   "source": [
    "##### Smoke Animation Settings"
   ]
  },
  {
   "cell_type": "code",
   "execution_count": 17,
   "metadata": {},
   "outputs": [],
   "source": [
    "def animateTorSmoke(frame, num_frames, azumith, elevation, distance, focalpoint):\n",
    "    azumith -= 70*root_transform(frame, num_frames, 5)\n",
    "    elevation += 60*root_transform(frame, num_frames, 5)\n",
    "    distance += 8000*root_transform(frame, num_frames, 5)\n",
    "    focalpoint[0] += 1500*root_transform(frame, num_frames, 5)\n",
    "    focalpoint[1] += 1500*root_transform(frame, num_frames, 5)\n",
    "    focalpoint[2] += 1000*root_transform(frame, num_frames, 5)\n",
    "    return (azumith, elevation, distance, focalpoint)\n",
    "\n",
    "def torViewSmoke(frame, num_frames):\n",
    "    azumith = 180\n",
    "    elevation = 30\n",
    "    distance = 2000\n",
    "    focalpoint = [5000, 2000, 0]\n",
    "    a, e, d, f = animateTorSmoke(frame, num_frames, azumith, elevation, distance, focalpoint)\n",
    "    return (a, e, d, f)\n",
    "\n",
    "aniFunc[\"tor\"] = torViewSmoke"
   ]
  },
  {
   "attachments": {},
   "cell_type": "markdown",
   "metadata": {},
   "source": [
    "# Generate Smoke Plots"
   ]
  },
  {
   "cell_type": "code",
   "execution_count": null,
   "metadata": {},
   "outputs": [],
   "source": [
    "for case in cases:\n",
    "    root = Path.cwd()/case\n",
    "    files = os.listdir(root/\"nc\")\n",
    "    for i in range(len(files)-1, -1, -1):\n",
    "        if not files[i].startswith(\"wrfout\"):\n",
    "            files.pop(i)\n",
    "    for frame, file in enumerate(files):\n",
    "        x3, y3, z3, smoke_interp, x2, y2, elevation, burn_area = \\\n",
    "            smoke_and_area(root/\"nc\"/file)\n",
    "        fig = mayaviplot.plot3d(x3, y3, z3, smoke_interp, x2, y2, elevation,\n",
    "                                burn_area, aniFunc[case], frame, len(files)-1,\n",
    "                                r_mv_cmap=True, squish=19.5, disp=0.5,\n",
    "                                out_filename=str(root/\"plots\"/\"smoke\"/(str(frame) + \".png\")))\n",
    "        mlab.close(fig)\n",
    "    print(\"Finished Plotting: {}\".format(root))"
   ]
  }
 ],
 "metadata": {
  "kernelspec": {
   "display_name": "wrf",
   "language": "python",
   "name": "python3"
  },
  "language_info": {
   "codemirror_mode": {
    "name": "ipython",
    "version": 3
   },
   "file_extension": ".py",
   "mimetype": "text/x-python",
   "name": "python",
   "nbconvert_exporter": "python",
   "pygments_lexer": "ipython3",
   "version": "3.8.16"
  },
  "orig_nbformat": 4
 },
 "nbformat": 4,
 "nbformat_minor": 2
}
