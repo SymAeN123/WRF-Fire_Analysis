{
 "cells": [
  {
   "attachments": {},
   "cell_type": "markdown",
   "metadata": {},
   "source": [
    "# Plotting FGTV"
   ]
  },
  {
   "cell_type": "code",
   "execution_count": 1,
   "metadata": {},
   "outputs": [],
   "source": [
    "import sys\n",
    "import os\n",
    "from pathlib import Path\n",
    "root = Path.cwd().parents[0]\n",
    "sys.path.append(str(root))\n",
    "\n",
    "from vort import plotjvort, getnumj\n",
    "\n",
    "from datetime import datetime\n",
    "import sounding"
   ]
  },
  {
   "attachments": {},
   "cell_type": "markdown",
   "metadata": {},
   "source": [
    "## Set Paths"
   ]
  },
  {
   "cell_type": "code",
   "execution_count": 2,
   "metadata": {},
   "outputs": [],
   "source": [
    "hrrr = root/\"init_conditions\"\n",
    "data = root/\"creek\"/\"nc\"\n",
    "vort_dir = root/\"creek\"/\"plots\"/\"yvort\"\n",
    "sounding_dir = root/\"creek\"/\"soundings\""
   ]
  },
  {
   "attachments": {},
   "cell_type": "markdown",
   "metadata": {},
   "source": [
    "## Sounding Plot"
   ]
  },
  {
   "cell_type": "code",
   "execution_count": 3,
   "metadata": {},
   "outputs": [
    {
     "name": "stdout",
     "output_type": "stream",
     "text": [
      "SHARPpy Skew-T image output at:  d:\\ATM255\\final_proj\\plotting\\creek\\soundings\\creek.png\n"
     ]
    }
   ],
   "source": [
    "tor_sounding = sounding.SoundingData('hrrr', hrrr/\"out_creek.nc\", 37.201, -119.272)\n",
    "\n",
    "tor_sounding.plot(datetime(month=9, day=5, year=2020), title=\"HRRR Creek Fire Sounding\", filename=str(sounding_dir/\"creek.png\"))"
   ]
  },
  {
   "attachments": {},
   "cell_type": "markdown",
   "metadata": {},
   "source": [
    "## Vort and Vert"
   ]
  },
  {
   "cell_type": "code",
   "execution_count": 4,
   "metadata": {},
   "outputs": [],
   "source": [
    "files = os.listdir(data)\n",
    "for i in range(len(files)-1, -1, -1):\n",
    "    if not files[i].startswith(\"wrfout\"):\n",
    "        files.pop(i)\n",
    "file = files[len(files)-1]\n",
    "numj = getnumj(file, data)\n",
    "for i in range(0,numj,5):\n",
    "    plotjvort((i+1)//5, file, data, vort_dir, i)"
   ]
  }
 ],
 "metadata": {
  "kernelspec": {
   "display_name": "wrf",
   "language": "python",
   "name": "python3"
  },
  "language_info": {
   "codemirror_mode": {
    "name": "ipython",
    "version": 3
   },
   "file_extension": ".py",
   "mimetype": "text/x-python",
   "name": "python",
   "nbconvert_exporter": "python",
   "pygments_lexer": "ipython3",
   "version": "3.8.16"
  },
  "orig_nbformat": 4
 },
 "nbformat": 4,
 "nbformat_minor": 2
}
